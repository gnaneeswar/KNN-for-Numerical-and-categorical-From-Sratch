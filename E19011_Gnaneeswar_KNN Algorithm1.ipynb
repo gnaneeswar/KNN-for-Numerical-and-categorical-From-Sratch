{
 "cells": [
  {
   "cell_type": "markdown",
   "metadata": {
    "collapsed": true
   },
   "source": [
    "## KNN "
   ]
  },
  {
   "cell_type": "markdown",
   "metadata": {},
   "source": [
    "### Required Library"
   ]
  },
  {
   "cell_type": "code",
   "execution_count": 1,
   "metadata": {},
   "outputs": [],
   "source": [
    "import numpy as np\n",
    "import pandas as pd\n",
    "import os\n",
    "\n",
    "from sklearn.model_selection import train_test_split\n",
    "\n",
    "\n",
    "#os.environ['PATH'] += os.pathsep + 'C:\\\\Users\\\\Gnaneeswar\\\\Desktop\\\\Praxis\\\\Python\\\\graphviz-2.38\\\\release\\\\bin'\n",
    "#os.environ['PATH'].split(os.pathsep)"
   ]
  },
  {
   "cell_type": "markdown",
   "metadata": {},
   "source": [
    "### Data"
   ]
  },
  {
   "cell_type": "code",
   "execution_count": 2,
   "metadata": {},
   "outputs": [],
   "source": [
    "#DATA\n",
    "#Setting the working directory\n",
    "os.chdir(r\"C:\\Users\\Gnaneeswar\\Desktop\\Praxis\\Python\")\n",
    "#Reading the data\n",
    "iris = pd.read_csv(\"iris.csv\")"
   ]
  },
  {
   "cell_type": "code",
   "execution_count": 3,
   "metadata": {},
   "outputs": [
    {
     "data": {
      "text/html": [
       "<div>\n",
       "<style scoped>\n",
       "    .dataframe tbody tr th:only-of-type {\n",
       "        vertical-align: middle;\n",
       "    }\n",
       "\n",
       "    .dataframe tbody tr th {\n",
       "        vertical-align: top;\n",
       "    }\n",
       "\n",
       "    .dataframe thead th {\n",
       "        text-align: right;\n",
       "    }\n",
       "</style>\n",
       "<table border=\"1\" class=\"dataframe\">\n",
       "  <thead>\n",
       "    <tr style=\"text-align: right;\">\n",
       "      <th></th>\n",
       "      <th>Unnamed: 0</th>\n",
       "      <th>Sepal.Length</th>\n",
       "      <th>Sepal.Width</th>\n",
       "      <th>Petal.Length</th>\n",
       "      <th>Petal.Width</th>\n",
       "      <th>Species</th>\n",
       "    </tr>\n",
       "  </thead>\n",
       "  <tbody>\n",
       "    <tr>\n",
       "      <th>0</th>\n",
       "      <td>1</td>\n",
       "      <td>5.1</td>\n",
       "      <td>3.5</td>\n",
       "      <td>1.4</td>\n",
       "      <td>0.2</td>\n",
       "      <td>setosa</td>\n",
       "    </tr>\n",
       "    <tr>\n",
       "      <th>1</th>\n",
       "      <td>2</td>\n",
       "      <td>4.9</td>\n",
       "      <td>3.0</td>\n",
       "      <td>1.4</td>\n",
       "      <td>0.2</td>\n",
       "      <td>setosa</td>\n",
       "    </tr>\n",
       "    <tr>\n",
       "      <th>2</th>\n",
       "      <td>3</td>\n",
       "      <td>4.7</td>\n",
       "      <td>3.2</td>\n",
       "      <td>1.3</td>\n",
       "      <td>0.2</td>\n",
       "      <td>setosa</td>\n",
       "    </tr>\n",
       "    <tr>\n",
       "      <th>3</th>\n",
       "      <td>4</td>\n",
       "      <td>4.6</td>\n",
       "      <td>3.1</td>\n",
       "      <td>1.5</td>\n",
       "      <td>0.2</td>\n",
       "      <td>setosa</td>\n",
       "    </tr>\n",
       "    <tr>\n",
       "      <th>4</th>\n",
       "      <td>5</td>\n",
       "      <td>5.0</td>\n",
       "      <td>3.6</td>\n",
       "      <td>1.4</td>\n",
       "      <td>0.2</td>\n",
       "      <td>setosa</td>\n",
       "    </tr>\n",
       "  </tbody>\n",
       "</table>\n",
       "</div>"
      ],
      "text/plain": [
       "   Unnamed: 0  Sepal.Length  Sepal.Width  Petal.Length  Petal.Width Species\n",
       "0           1           5.1          3.5           1.4          0.2  setosa\n",
       "1           2           4.9          3.0           1.4          0.2  setosa\n",
       "2           3           4.7          3.2           1.3          0.2  setosa\n",
       "3           4           4.6          3.1           1.5          0.2  setosa\n",
       "4           5           5.0          3.6           1.4          0.2  setosa"
      ]
     },
     "execution_count": 3,
     "metadata": {},
     "output_type": "execute_result"
    }
   ],
   "source": [
    "#The first few observtions of the data\n",
    "iris.head()"
   ]
  },
  {
   "cell_type": "code",
   "execution_count": 4,
   "metadata": {},
   "outputs": [],
   "source": [
    "import warnings\n",
    "warnings.filterwarnings(\"ignore\")"
   ]
  },
  {
   "cell_type": "code",
   "execution_count": 5,
   "metadata": {},
   "outputs": [],
   "source": [
    "def distance (obs,df):\n",
    "    \n",
    "    dist=[]\n",
    "\n",
    "    for i in df.index:\n",
    "        \n",
    "        dist.append(np.sqrt(np.sum(((df.loc[i,]-obs)**2).values)))\n",
    "\n",
    "    return(dist)"
   ]
  },
  {
   "cell_type": "code",
   "execution_count": 6,
   "metadata": {},
   "outputs": [],
   "source": [
    "def knn(i,df):\n",
    "    \n",
    "    # getting the index of the i number of rows which has minimum distance value in ascending order\n",
    "    \n",
    "    a=df.sort_values(by=\"distance\",ascending=True).head(i).index.values\n",
    "    \n",
    "    # returning the index\n",
    "    return(a)\n"
   ]
  },
  {
   "cell_type": "markdown",
   "metadata": {},
   "source": [
    "### KNN Classifer and Regressor in one function"
   ]
  },
  {
   "cell_type": "code",
   "execution_count": 7,
   "metadata": {},
   "outputs": [],
   "source": [
    "def runknn(k,X_test,Y_test,X_train,Y_train):\n",
    "\n",
    "    from scipy import stats\n",
    "    y_pred=[]\n",
    "\n",
    "    for i in X_test.index:\n",
    "\n",
    "        # for each iteration get a copy form X_train\n",
    "        X_train1=X_train.copy()\n",
    "\n",
    "        # pick the ith row from test data\n",
    "        obs1=X_test.loc[i,]\n",
    "\n",
    "        # computing distance beween ith observation of test data and all observations of train data\n",
    "        dist= distance(obs1,X_train1)\n",
    "\n",
    "        #storing computed distance in X_train1\n",
    "        X_train1.loc[:,\"distance\"]=dist\n",
    "\n",
    "        #print(X_train1.head())\n",
    "\n",
    "        # getting the index of k cases in train data. \n",
    "        testidx=knn(k,X_train1)\n",
    "        \n",
    "        # if Y_train dtype is object then take mode else take mean\n",
    "        \n",
    "        if(Y_train[Y_train.columns[0]].dtypes==\"object\"):\n",
    "            \n",
    "            #taking MODE of values in y_train\n",
    "            #------------------------------------\n",
    "\n",
    "            try:\n",
    "                y_pred.append(stats.mode(Y_train.loc[testidx,\"Species\"])[0][0])\n",
    "                \n",
    "            except:\n",
    "                \n",
    "                #in case multiple mode is present,take the first mode\n",
    "                \n",
    "                c=Y_train.loc[testidx,\"Species\"]\n",
    "\n",
    "                y_pred.append(max(c.values, key=list(c).count))\n",
    "        \n",
    "        else:\n",
    "            #taking MEAN of values in y_train\n",
    "            #------------------------------------\n",
    "            \n",
    "            y_pred.append(np.mean(Y_train.loc[testidx,\"Species\"])[0][0])\n",
    "        \n",
    "    x_test1=X_test.copy()\n",
    "\n",
    "    #appaending predicted values in x_test1 dataframe\n",
    "    x_test1[\"pred\"]=y_pred\n",
    "    \n",
    "    #appaending actual values in x_test1 dataframe\n",
    "    x_test1[\"actual\"]=Y_test\n",
    "    \n",
    "    return(x_test1)\n"
   ]
  },
  {
   "cell_type": "code",
   "execution_count": 8,
   "metadata": {},
   "outputs": [
    {
     "name": "stdout",
     "output_type": "stream",
     "text": [
      "versicolor    0.333333\n",
      "virginica     0.333333\n",
      "setosa        0.333333\n",
      "Name: Species, dtype: float64\n",
      "versicolor    0.333333\n",
      "virginica     0.333333\n",
      "setosa        0.333333\n",
      "Name: Species, dtype: float64\n"
     ]
    }
   ],
   "source": [
    "X = iris[['Sepal.Length', 'Sepal.Width', 'Petal.Length', 'Petal.Width']]\n",
    "y = iris[['Species']]\n",
    "\n",
    "x_train, x_test, y_train, y_test = train_test_split( X, y, test_size = 0.5, stratify=y, random_state = 123)\n",
    "\n",
    "#Checks\n",
    "#Proportion in training data\n",
    "\n",
    "print(y_train.Species.value_counts()/len(y_train))\n",
    "print(y_test.Species.value_counts()/len(y_test))\n"
   ]
  },
  {
   "cell_type": "markdown",
   "metadata": {},
   "source": [
    "### Enter the K value"
   ]
  },
  {
   "cell_type": "code",
   "execution_count": 9,
   "metadata": {},
   "outputs": [
    {
     "name": "stdout",
     "output_type": "stream",
     "text": [
      "enter the value of k5\n"
     ]
    }
   ],
   "source": [
    "kval=int(input(\"enter the value of k\"))\n",
    "df=runknn(kval,x_test,y_test,x_train,y_train)"
   ]
  },
  {
   "cell_type": "code",
   "execution_count": 10,
   "metadata": {},
   "outputs": [
    {
     "data": {
      "text/html": [
       "<div>\n",
       "<style scoped>\n",
       "    .dataframe tbody tr th:only-of-type {\n",
       "        vertical-align: middle;\n",
       "    }\n",
       "\n",
       "    .dataframe tbody tr th {\n",
       "        vertical-align: top;\n",
       "    }\n",
       "\n",
       "    .dataframe thead th {\n",
       "        text-align: right;\n",
       "    }\n",
       "</style>\n",
       "<table border=\"1\" class=\"dataframe\">\n",
       "  <thead>\n",
       "    <tr style=\"text-align: right;\">\n",
       "      <th></th>\n",
       "      <th>Sepal.Length</th>\n",
       "      <th>Sepal.Width</th>\n",
       "      <th>Petal.Length</th>\n",
       "      <th>Petal.Width</th>\n",
       "      <th>pred</th>\n",
       "      <th>actual</th>\n",
       "    </tr>\n",
       "  </thead>\n",
       "  <tbody>\n",
       "    <tr>\n",
       "      <th>14</th>\n",
       "      <td>5.8</td>\n",
       "      <td>4.0</td>\n",
       "      <td>1.2</td>\n",
       "      <td>0.2</td>\n",
       "      <td>setosa</td>\n",
       "      <td>setosa</td>\n",
       "    </tr>\n",
       "    <tr>\n",
       "      <th>104</th>\n",
       "      <td>6.5</td>\n",
       "      <td>3.0</td>\n",
       "      <td>5.8</td>\n",
       "      <td>2.2</td>\n",
       "      <td>virginica</td>\n",
       "      <td>virginica</td>\n",
       "    </tr>\n",
       "    <tr>\n",
       "      <th>75</th>\n",
       "      <td>6.6</td>\n",
       "      <td>3.0</td>\n",
       "      <td>4.4</td>\n",
       "      <td>1.4</td>\n",
       "      <td>versicolor</td>\n",
       "      <td>versicolor</td>\n",
       "    </tr>\n",
       "    <tr>\n",
       "      <th>3</th>\n",
       "      <td>4.6</td>\n",
       "      <td>3.1</td>\n",
       "      <td>1.5</td>\n",
       "      <td>0.2</td>\n",
       "      <td>setosa</td>\n",
       "      <td>setosa</td>\n",
       "    </tr>\n",
       "    <tr>\n",
       "      <th>120</th>\n",
       "      <td>6.9</td>\n",
       "      <td>3.2</td>\n",
       "      <td>5.7</td>\n",
       "      <td>2.3</td>\n",
       "      <td>virginica</td>\n",
       "      <td>virginica</td>\n",
       "    </tr>\n",
       "  </tbody>\n",
       "</table>\n",
       "</div>"
      ],
      "text/plain": [
       "     Sepal.Length  Sepal.Width  Petal.Length  Petal.Width        pred  \\\n",
       "14            5.8          4.0           1.2          0.2      setosa   \n",
       "104           6.5          3.0           5.8          2.2   virginica   \n",
       "75            6.6          3.0           4.4          1.4  versicolor   \n",
       "3             4.6          3.1           1.5          0.2      setosa   \n",
       "120           6.9          3.2           5.7          2.3   virginica   \n",
       "\n",
       "         actual  \n",
       "14       setosa  \n",
       "104   virginica  \n",
       "75   versicolor  \n",
       "3        setosa  \n",
       "120   virginica  "
      ]
     },
     "execution_count": 10,
     "metadata": {},
     "output_type": "execute_result"
    }
   ],
   "source": [
    "df.head()"
   ]
  },
  {
   "cell_type": "code",
   "execution_count": 11,
   "metadata": {},
   "outputs": [
    {
     "data": {
      "text/plain": [
       "True"
      ]
     },
     "execution_count": 11,
     "metadata": {},
     "output_type": "execute_result"
    }
   ],
   "source": [
    "df.actual.dtypes==\"object\""
   ]
  },
  {
   "cell_type": "code",
   "execution_count": 15,
   "metadata": {},
   "outputs": [
    {
     "name": "stdout",
     "output_type": "stream",
     "text": [
      "confusion matrix\n",
      "[[25  0  0]\n",
      " [ 0 23  1]\n",
      " [ 0  2 24]]\n",
      "\n",
      "overall accuracy 96.0\n"
     ]
    }
   ],
   "source": [
    "from sklearn.metrics import confusion_matrix\n",
    "\n",
    "if(df.actual.dtypes==\"object\"):\n",
    "    c = confusion_matrix(df.pred, df.actual)\n",
    "    print(\"confusion matrix\")\n",
    "    print(c)\n",
    "    print(\"\")\n",
    "    \n",
    "    #Overall Accuracy\n",
    "    print(\"overall accuracy\",(c[0,0]+c[1,1]+c[2,2])/np.sum(c)*100)\n",
    "    \n",
    "else:\n",
    "    print(\"rmse value\")\n",
    "    print(np.sqrt(np.mean((df.pred - df.actual)**2)))"
   ]
  },
  {
   "cell_type": "markdown",
   "metadata": {},
   "source": [
    "### Rough Work"
   ]
  },
  {
   "cell_type": "code",
   "execution_count": 108,
   "metadata": {},
   "outputs": [
    {
     "name": "stdout",
     "output_type": "stream",
     "text": [
      "    Sepal.Length  Sepal.Width  Petal.Length  Petal.Width\n",
      "14          -0.7         -1.5           1.8          0.9\n",
      "    Sepal.Length  Sepal.Width  Petal.Length  Petal.Width\n",
      "14          0.49         2.25          3.24         0.81\n",
      "6.790000000000001\n"
     ]
    },
    {
     "data": {
      "text/plain": [
       "2.6057628441590768"
      ]
     },
     "execution_count": 108,
     "metadata": {},
     "output_type": "execute_result"
    }
   ],
   "source": [
    "obs1=x_test.head(1)\n",
    "print(x_train.loc[98,]-obs1)\n",
    "\n",
    "a=(x_train.loc[98,]-obs1)**2\n",
    "print(a)\n",
    "\n",
    "print(np.sum(a.values))\n",
    "np.sqrt(np.sum(((x_train.loc[98,]-obs1)**2).values))"
   ]
  },
  {
   "cell_type": "code",
   "execution_count": 144,
   "metadata": {},
   "outputs": [
    {
     "data": {
      "text/plain": [
       "Species    object\n",
       "dtype: object"
      ]
     },
     "execution_count": 144,
     "metadata": {},
     "output_type": "execute_result"
    }
   ],
   "source": [
    "y_train"
   ]
  },
  {
   "cell_type": "code",
   "execution_count": 165,
   "metadata": {},
   "outputs": [
    {
     "data": {
      "text/plain": [
       "'Species'"
      ]
     },
     "execution_count": 165,
     "metadata": {},
     "output_type": "execute_result"
    }
   ],
   "source": [
    "y_train.columns[0]"
   ]
  },
  {
   "cell_type": "code",
   "execution_count": 166,
   "metadata": {},
   "outputs": [
    {
     "name": "stdout",
     "output_type": "stream",
     "text": [
      "1\n"
     ]
    }
   ],
   "source": [
    "if(y_train[y_train.columns[0]].dtypes==\"object\"):\n",
    "    \n",
    "    print(1)"
   ]
  },
  {
   "cell_type": "code",
   "execution_count": 167,
   "metadata": {},
   "outputs": [],
   "source": [
    "c=pd.Series([\"pear\",\"orange\",\"apple\",\"orange\",\"grape\",\"wine\",\"apple\"])"
   ]
  },
  {
   "cell_type": "code",
   "execution_count": 118,
   "metadata": {},
   "outputs": [
    {
     "data": {
      "text/plain": [
       "dtype('O')"
      ]
     },
     "execution_count": 118,
     "metadata": {},
     "output_type": "execute_result"
    }
   ],
   "source": [
    "c.dtypes"
   ]
  },
  {
   "cell_type": "code",
   "execution_count": 119,
   "metadata": {
    "scrolled": true
   },
   "outputs": [
    {
     "data": {
      "text/plain": [
       "pandas.core.series.Series"
      ]
     },
     "execution_count": 119,
     "metadata": {},
     "output_type": "execute_result"
    }
   ],
   "source": [
    "type(c)"
   ]
  },
  {
   "cell_type": "code",
   "execution_count": 56,
   "metadata": {},
   "outputs": [],
   "source": [
    "a=[]\n",
    "\n",
    "a.append(y_train.loc[[1,2,3],\"Species\"].head(1)[1])"
   ]
  },
  {
   "cell_type": "code",
   "execution_count": 85,
   "metadata": {},
   "outputs": [
    {
     "data": {
      "text/plain": [
       "<function list.count(value, /)>"
      ]
     },
     "execution_count": 85,
     "metadata": {},
     "output_type": "execute_result"
    }
   ],
   "source": [
    "c.count"
   ]
  },
  {
   "cell_type": "code",
   "execution_count": 120,
   "metadata": {},
   "outputs": [
    {
     "data": {
      "text/plain": [
       "'orange'"
      ]
     },
     "execution_count": 120,
     "metadata": {},
     "output_type": "execute_result"
    }
   ],
   "source": [
    "max(c.values, key=list(c).count)"
   ]
  },
  {
   "cell_type": "code",
   "execution_count": null,
   "metadata": {},
   "outputs": [],
   "source": []
  }
 ],
 "metadata": {
  "kernelspec": {
   "display_name": "Python 3",
   "language": "python",
   "name": "python3"
  },
  "language_info": {
   "codemirror_mode": {
    "name": "ipython",
    "version": 3
   },
   "file_extension": ".py",
   "mimetype": "text/x-python",
   "name": "python",
   "nbconvert_exporter": "python",
   "pygments_lexer": "ipython3",
   "version": "3.7.1"
  }
 },
 "nbformat": 4,
 "nbformat_minor": 2
}
